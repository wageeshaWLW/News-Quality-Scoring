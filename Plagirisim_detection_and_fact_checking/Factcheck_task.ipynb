{
  "cells": [
    {
      "cell_type": "code",
      "execution_count": 1,
      "metadata": {
        "colab": {
          "base_uri": "https://localhost:8080/"
        },
        "id": "bFa_ICIOqTxy",
        "outputId": "e0f1c46b-e3f4-4212-86d2-a889d238b9e6"
      },
      "outputs": [
        {
          "output_type": "stream",
          "name": "stdout",
          "text": [
            "Collecting wikipedia-api\n",
            "  Downloading wikipedia_api-0.7.1.tar.gz (17 kB)\n",
            "  Preparing metadata (setup.py) ... \u001b[?25l\u001b[?25hdone\n",
            "Requirement already satisfied: requests in /usr/local/lib/python3.10/dist-packages (from wikipedia-api) (2.32.3)\n",
            "Requirement already satisfied: charset-normalizer<4,>=2 in /usr/local/lib/python3.10/dist-packages (from requests->wikipedia-api) (3.3.2)\n",
            "Requirement already satisfied: idna<4,>=2.5 in /usr/local/lib/python3.10/dist-packages (from requests->wikipedia-api) (3.7)\n",
            "Requirement already satisfied: urllib3<3,>=1.21.1 in /usr/local/lib/python3.10/dist-packages (from requests->wikipedia-api) (2.0.7)\n",
            "Requirement already satisfied: certifi>=2017.4.17 in /usr/local/lib/python3.10/dist-packages (from requests->wikipedia-api) (2024.7.4)\n",
            "Building wheels for collected packages: wikipedia-api\n",
            "  Building wheel for wikipedia-api (setup.py) ... \u001b[?25l\u001b[?25hdone\n",
            "  Created wheel for wikipedia-api: filename=Wikipedia_API-0.7.1-py3-none-any.whl size=14347 sha256=f8aceb6c63eb191dbba6e79d2d59f9b428081ca7e65358049a3c2eed75fb8dae\n",
            "  Stored in directory: /root/.cache/pip/wheels/4c/96/18/b9201cc3e8b47b02b510460210cfd832ccf10c0c4dd0522962\n",
            "Successfully built wikipedia-api\n",
            "Installing collected packages: wikipedia-api\n",
            "Successfully installed wikipedia-api-0.7.1\n"
          ]
        }
      ],
      "source": [
        "pip install wikipedia-api"
      ]
    },
    {
      "cell_type": "code",
      "execution_count": 2,
      "metadata": {
        "colab": {
          "base_uri": "https://localhost:8080/"
        },
        "id": "I6lWDw_ro0r_",
        "outputId": "14ebd0ca-bd0e-4793-8c9f-d3706b052f4a"
      },
      "outputs": [
        {
          "output_type": "stream",
          "name": "stdout",
          "text": [
            "Collecting keras-tuner\n",
            "  Downloading keras_tuner-1.4.7-py3-none-any.whl.metadata (5.4 kB)\n",
            "Requirement already satisfied: keras in /usr/local/lib/python3.10/dist-packages (from keras-tuner) (3.4.1)\n",
            "Requirement already satisfied: packaging in /usr/local/lib/python3.10/dist-packages (from keras-tuner) (24.1)\n",
            "Requirement already satisfied: requests in /usr/local/lib/python3.10/dist-packages (from keras-tuner) (2.32.3)\n",
            "Collecting kt-legacy (from keras-tuner)\n",
            "  Downloading kt_legacy-1.0.5-py3-none-any.whl.metadata (221 bytes)\n",
            "Requirement already satisfied: absl-py in /usr/local/lib/python3.10/dist-packages (from keras->keras-tuner) (1.4.0)\n",
            "Requirement already satisfied: numpy in /usr/local/lib/python3.10/dist-packages (from keras->keras-tuner) (1.26.4)\n",
            "Requirement already satisfied: rich in /usr/local/lib/python3.10/dist-packages (from keras->keras-tuner) (13.7.1)\n",
            "Requirement already satisfied: namex in /usr/local/lib/python3.10/dist-packages (from keras->keras-tuner) (0.0.8)\n",
            "Requirement already satisfied: h5py in /usr/local/lib/python3.10/dist-packages (from keras->keras-tuner) (3.11.0)\n",
            "Requirement already satisfied: optree in /usr/local/lib/python3.10/dist-packages (from keras->keras-tuner) (0.12.1)\n",
            "Requirement already satisfied: ml-dtypes in /usr/local/lib/python3.10/dist-packages (from keras->keras-tuner) (0.4.0)\n",
            "Requirement already satisfied: charset-normalizer<4,>=2 in /usr/local/lib/python3.10/dist-packages (from requests->keras-tuner) (3.3.2)\n",
            "Requirement already satisfied: idna<4,>=2.5 in /usr/local/lib/python3.10/dist-packages (from requests->keras-tuner) (3.7)\n",
            "Requirement already satisfied: urllib3<3,>=1.21.1 in /usr/local/lib/python3.10/dist-packages (from requests->keras-tuner) (2.0.7)\n",
            "Requirement already satisfied: certifi>=2017.4.17 in /usr/local/lib/python3.10/dist-packages (from requests->keras-tuner) (2024.7.4)\n",
            "Requirement already satisfied: typing-extensions>=4.5.0 in /usr/local/lib/python3.10/dist-packages (from optree->keras->keras-tuner) (4.12.2)\n",
            "Requirement already satisfied: markdown-it-py>=2.2.0 in /usr/local/lib/python3.10/dist-packages (from rich->keras->keras-tuner) (3.0.0)\n",
            "Requirement already satisfied: pygments<3.0.0,>=2.13.0 in /usr/local/lib/python3.10/dist-packages (from rich->keras->keras-tuner) (2.16.1)\n",
            "Requirement already satisfied: mdurl~=0.1 in /usr/local/lib/python3.10/dist-packages (from markdown-it-py>=2.2.0->rich->keras->keras-tuner) (0.1.2)\n",
            "Downloading keras_tuner-1.4.7-py3-none-any.whl (129 kB)\n",
            "\u001b[2K   \u001b[90m━━━━━━━━━━━━━━━━━━━━━━━━━━━━━━━━━━━━━━━━\u001b[0m \u001b[32m129.1/129.1 kB\u001b[0m \u001b[31m10.6 MB/s\u001b[0m eta \u001b[36m0:00:00\u001b[0m\n",
            "\u001b[?25hDownloading kt_legacy-1.0.5-py3-none-any.whl (9.6 kB)\n",
            "Installing collected packages: kt-legacy, keras-tuner\n",
            "Successfully installed keras-tuner-1.4.7 kt-legacy-1.0.5\n"
          ]
        }
      ],
      "source": [
        "pip install keras-tuner"
      ]
    },
    {
      "cell_type": "code",
      "execution_count": 3,
      "metadata": {
        "colab": {
          "base_uri": "https://localhost:8080/"
        },
        "id": "omfUASxzfXqf",
        "outputId": "0c4e8843-919d-46ff-9d9a-7540f383524a"
      },
      "outputs": [
        {
          "output_type": "stream",
          "name": "stdout",
          "text": [
            "Collecting datasets\n",
            "  Downloading datasets-2.21.0-py3-none-any.whl.metadata (21 kB)\n",
            "Requirement already satisfied: filelock in /usr/local/lib/python3.10/dist-packages (from datasets) (3.15.4)\n",
            "Requirement already satisfied: numpy>=1.17 in /usr/local/lib/python3.10/dist-packages (from datasets) (1.26.4)\n",
            "Collecting pyarrow>=15.0.0 (from datasets)\n",
            "  Downloading pyarrow-17.0.0-cp310-cp310-manylinux_2_28_x86_64.whl.metadata (3.3 kB)\n",
            "Collecting dill<0.3.9,>=0.3.0 (from datasets)\n",
            "  Downloading dill-0.3.8-py3-none-any.whl.metadata (10 kB)\n",
            "Requirement already satisfied: pandas in /usr/local/lib/python3.10/dist-packages (from datasets) (2.1.4)\n",
            "Requirement already satisfied: requests>=2.32.2 in /usr/local/lib/python3.10/dist-packages (from datasets) (2.32.3)\n",
            "Requirement already satisfied: tqdm>=4.66.3 in /usr/local/lib/python3.10/dist-packages (from datasets) (4.66.5)\n",
            "Collecting xxhash (from datasets)\n",
            "  Downloading xxhash-3.5.0-cp310-cp310-manylinux_2_17_x86_64.manylinux2014_x86_64.whl.metadata (12 kB)\n",
            "Collecting multiprocess (from datasets)\n",
            "  Downloading multiprocess-0.70.16-py310-none-any.whl.metadata (7.2 kB)\n",
            "Requirement already satisfied: fsspec<=2024.6.1,>=2023.1.0 in /usr/local/lib/python3.10/dist-packages (from fsspec[http]<=2024.6.1,>=2023.1.0->datasets) (2024.6.1)\n",
            "Requirement already satisfied: aiohttp in /usr/local/lib/python3.10/dist-packages (from datasets) (3.10.5)\n",
            "Requirement already satisfied: huggingface-hub>=0.21.2 in /usr/local/lib/python3.10/dist-packages (from datasets) (0.23.5)\n",
            "Requirement already satisfied: packaging in /usr/local/lib/python3.10/dist-packages (from datasets) (24.1)\n",
            "Requirement already satisfied: pyyaml>=5.1 in /usr/local/lib/python3.10/dist-packages (from datasets) (6.0.2)\n",
            "Requirement already satisfied: aiohappyeyeballs>=2.3.0 in /usr/local/lib/python3.10/dist-packages (from aiohttp->datasets) (2.4.0)\n",
            "Requirement already satisfied: aiosignal>=1.1.2 in /usr/local/lib/python3.10/dist-packages (from aiohttp->datasets) (1.3.1)\n",
            "Requirement already satisfied: attrs>=17.3.0 in /usr/local/lib/python3.10/dist-packages (from aiohttp->datasets) (24.2.0)\n",
            "Requirement already satisfied: frozenlist>=1.1.1 in /usr/local/lib/python3.10/dist-packages (from aiohttp->datasets) (1.4.1)\n",
            "Requirement already satisfied: multidict<7.0,>=4.5 in /usr/local/lib/python3.10/dist-packages (from aiohttp->datasets) (6.0.5)\n",
            "Requirement already satisfied: yarl<2.0,>=1.0 in /usr/local/lib/python3.10/dist-packages (from aiohttp->datasets) (1.9.4)\n",
            "Requirement already satisfied: async-timeout<5.0,>=4.0 in /usr/local/lib/python3.10/dist-packages (from aiohttp->datasets) (4.0.3)\n",
            "Requirement already satisfied: typing-extensions>=3.7.4.3 in /usr/local/lib/python3.10/dist-packages (from huggingface-hub>=0.21.2->datasets) (4.12.2)\n",
            "Requirement already satisfied: charset-normalizer<4,>=2 in /usr/local/lib/python3.10/dist-packages (from requests>=2.32.2->datasets) (3.3.2)\n",
            "Requirement already satisfied: idna<4,>=2.5 in /usr/local/lib/python3.10/dist-packages (from requests>=2.32.2->datasets) (3.7)\n",
            "Requirement already satisfied: urllib3<3,>=1.21.1 in /usr/local/lib/python3.10/dist-packages (from requests>=2.32.2->datasets) (2.0.7)\n",
            "Requirement already satisfied: certifi>=2017.4.17 in /usr/local/lib/python3.10/dist-packages (from requests>=2.32.2->datasets) (2024.7.4)\n",
            "Requirement already satisfied: python-dateutil>=2.8.2 in /usr/local/lib/python3.10/dist-packages (from pandas->datasets) (2.8.2)\n",
            "Requirement already satisfied: pytz>=2020.1 in /usr/local/lib/python3.10/dist-packages (from pandas->datasets) (2024.1)\n",
            "Requirement already satisfied: tzdata>=2022.1 in /usr/local/lib/python3.10/dist-packages (from pandas->datasets) (2024.1)\n",
            "Requirement already satisfied: six>=1.5 in /usr/local/lib/python3.10/dist-packages (from python-dateutil>=2.8.2->pandas->datasets) (1.16.0)\n",
            "Downloading datasets-2.21.0-py3-none-any.whl (527 kB)\n",
            "\u001b[2K   \u001b[90m━━━━━━━━━━━━━━━━━━━━━━━━━━━━━━━━━━━━━━━━\u001b[0m \u001b[32m527.3/527.3 kB\u001b[0m \u001b[31m34.3 MB/s\u001b[0m eta \u001b[36m0:00:00\u001b[0m\n",
            "\u001b[?25hDownloading dill-0.3.8-py3-none-any.whl (116 kB)\n",
            "\u001b[2K   \u001b[90m━━━━━━━━━━━━━━━━━━━━━━━━━━━━━━━━━━━━━━━━\u001b[0m \u001b[32m116.3/116.3 kB\u001b[0m \u001b[31m11.2 MB/s\u001b[0m eta \u001b[36m0:00:00\u001b[0m\n",
            "\u001b[?25hDownloading pyarrow-17.0.0-cp310-cp310-manylinux_2_28_x86_64.whl (39.9 MB)\n",
            "\u001b[2K   \u001b[90m━━━━━━━━━━━━━━━━━━━━━━━━━━━━━━━━━━━━━━━━\u001b[0m \u001b[32m39.9/39.9 MB\u001b[0m \u001b[31m50.3 MB/s\u001b[0m eta \u001b[36m0:00:00\u001b[0m\n",
            "\u001b[?25hDownloading multiprocess-0.70.16-py310-none-any.whl (134 kB)\n",
            "\u001b[2K   \u001b[90m━━━━━━━━━━━━━━━━━━━━━━━━━━━━━━━━━━━━━━━━\u001b[0m \u001b[32m134.8/134.8 kB\u001b[0m \u001b[31m12.2 MB/s\u001b[0m eta \u001b[36m0:00:00\u001b[0m\n",
            "\u001b[?25hDownloading xxhash-3.5.0-cp310-cp310-manylinux_2_17_x86_64.manylinux2014_x86_64.whl (194 kB)\n",
            "\u001b[2K   \u001b[90m━━━━━━━━━━━━━━━━━━━━━━━━━━━━━━━━━━━━━━━━\u001b[0m \u001b[32m194.1/194.1 kB\u001b[0m \u001b[31m18.2 MB/s\u001b[0m eta \u001b[36m0:00:00\u001b[0m\n",
            "\u001b[?25hInstalling collected packages: xxhash, pyarrow, dill, multiprocess, datasets\n",
            "  Attempting uninstall: pyarrow\n",
            "    Found existing installation: pyarrow 14.0.2\n",
            "    Uninstalling pyarrow-14.0.2:\n",
            "      Successfully uninstalled pyarrow-14.0.2\n",
            "\u001b[31mERROR: pip's dependency resolver does not currently take into account all the packages that are installed. This behaviour is the source of the following dependency conflicts.\n",
            "cudf-cu12 24.4.1 requires pyarrow<15.0.0a0,>=14.0.1, but you have pyarrow 17.0.0 which is incompatible.\n",
            "ibis-framework 8.0.0 requires pyarrow<16,>=2, but you have pyarrow 17.0.0 which is incompatible.\u001b[0m\u001b[31m\n",
            "\u001b[0mSuccessfully installed datasets-2.21.0 dill-0.3.8 multiprocess-0.70.16 pyarrow-17.0.0 xxhash-3.5.0\n"
          ]
        }
      ],
      "source": [
        "pip install datasets"
      ]
    },
    {
      "cell_type": "code",
      "execution_count": 4,
      "metadata": {
        "colab": {
          "base_uri": "https://localhost:8080/"
        },
        "id": "9GbhPHAOotH3",
        "outputId": "4e64847c-fb8d-4df4-b347-ab552d6694dd"
      },
      "outputs": [
        {
          "output_type": "stream",
          "name": "stderr",
          "text": [
            "[nltk_data] Downloading package punkt to /root/nltk_data...\n",
            "[nltk_data]   Unzipping tokenizers/punkt.zip.\n"
          ]
        }
      ],
      "source": [
        "import os\n",
        "import json\n",
        "import random\n",
        "import numpy as np\n",
        "import matplotlib.pyplot as plt\n",
        "import pandas as pd\n",
        "import re\n",
        "import seaborn as sns\n",
        "from tqdm import tqdm\n",
        "import itertools\n",
        "\n",
        "import nltk\n",
        "nltk.download('punkt')\n",
        "import tensorflow as tf\n",
        "import keras_tuner as kt\n",
        "from tensorflow import keras\n",
        "from tensorflow.keras import layers\n",
        "from sklearn.metrics import confusion_matrix, ConfusionMatrixDisplay, classification_report,accuracy_score\n",
        "from sklearn.preprocessing import LabelEncoder\n",
        "from datasets import load_dataset\n",
        "import wikipediaapi\n",
        "import time\n",
        "from requests.exceptions import ReadTimeout\n",
        "import torch\n",
        "from torch.utils.data import DataLoader, Dataset\n",
        "from transformers import BertTokenizer, BertForSequenceClassification, Trainer, TrainingArguments\n",
        "from transformers import RobertaTokenizer, RobertaForSequenceClassification, Trainer, TrainingArguments\n",
        "from transformers import XLNetTokenizer, XLNetForSequenceClassification, Trainer, TrainingArguments\n"
      ]
    },
    {
      "cell_type": "markdown",
      "metadata": {
        "id": "8z8x9DlomvtN"
      },
      "source": [
        "##Data Genaration"
      ]
    },
    {
      "cell_type": "code",
      "execution_count": null,
      "metadata": {
        "id": "8BXftCQtUloZ"
      },
      "outputs": [],
      "source": [
        "# Load the FEVER dataset with a specific configuration and trust remote code\n",
        "dataset = load_dataset(\"fever\", \"v1.0\", trust_remote_code=True)"
      ]
    },
    {
      "cell_type": "code",
      "execution_count": null,
      "metadata": {
        "id": "ci2N48BwUrE7"
      },
      "outputs": [],
      "source": [
        "train_df = pd.DataFrame(dataset['train'][:50000])\n",
        "dev_df = pd.DataFrame(dataset['labelled_dev'][:5000])\n",
        "test_df = pd.DataFrame(dataset['paper_test'][:5000])"
      ]
    },
    {
      "cell_type": "code",
      "execution_count": null,
      "metadata": {
        "id": "IDAwURthubEj"
      },
      "outputs": [],
      "source": [
        "len(train_df)"
      ]
    },
    {
      "cell_type": "code",
      "execution_count": null,
      "metadata": {
        "id": "kAGdI2qbZffL"
      },
      "outputs": [],
      "source": [
        "user_agent = \"YourAppName/1.0 (https://yourappwebsite.com; contact@yourappemail.com)\"\n",
        "wiki_wiki = wikipediaapi.Wikipedia('en', headers={'User-Agent': user_agent})\n",
        "\n",
        "def get_evidence_text(row):\n",
        "    evidence_texts = []\n",
        "    wiki_url = row.get('evidence_wiki_url', '')\n",
        "    sentence_id = row.get('evidence_sentence_id', 0)\n",
        "\n",
        "    if wiki_url:\n",
        "        page_title = wiki_url.split('/wiki/')[-1]\n",
        "        for _ in range(2):\n",
        "            try:\n",
        "                page = wiki_wiki.page(page_title)\n",
        "                if page.exists():\n",
        "                    sentences = page.text.split('. ')\n",
        "                    if sentence_id < len(sentences):\n",
        "                        evidence_texts.append(sentences[sentence_id])\n",
        "                    else:\n",
        "                        evidence_texts.append(\"Sentence ID out of range\")\n",
        "                else:\n",
        "                    evidence_texts.append(\"Page not found or query failed\")\n",
        "                break\n",
        "            except ReadTimeout:\n",
        "                print(f\"ReadTimeout error occurred for page {page_title}. Retrying...\")\n",
        "                time.sleep(2)\n",
        "        else:\n",
        "            evidence_texts.append(\"Failed to fetch page after retries\")\n",
        "    else:\n",
        "        evidence_texts.append(\"Invalid Wikipedia URL\")\n",
        "\n",
        "    return evidence_texts\n"
      ]
    },
    {
      "cell_type": "code",
      "execution_count": null,
      "metadata": {
        "id": "mhBRDWeyujKs"
      },
      "outputs": [],
      "source": [
        "train_df['Evidence'] = train_df.apply(get_evidence_text, axis=1)\n",
        "print(train_df[['claim', 'Evidence']].head())"
      ]
    },
    {
      "cell_type": "code",
      "execution_count": null,
      "metadata": {
        "id": "dBdznYUK1CIm"
      },
      "outputs": [],
      "source": [
        "dev_df['Evidence'] = dev_df.apply(get_evidence_text, axis=1)\n",
        "print(dev_df[['claim', 'Evidence']].head())\n",
        "test_df['Evidence'] = dev_df.apply(get_evidence_text, axis=1)\n",
        "print(test_df[['claim', 'Evidence']].head())"
      ]
    },
    {
      "cell_type": "code",
      "execution_count": null,
      "metadata": {
        "id": "hNUvxgvGxGsY"
      },
      "outputs": [],
      "source": [
        "train_df_new = train_df[~train_df['Evidence'].apply(lambda x: any(item in ['Invalid Wikipedia URL', 'Page not found or query failed'] for item in x))]\n",
        "dev_df_new = dev_df[~dev_df['Evidence'].apply(lambda x: any(item in ['Invalid Wikipedia URL', 'Page not found or query failed'] for item in x))]\n",
        "test_df_new = test_df[~test_df['Evidence'].apply(lambda x: any(item in ['Invalid Wikipedia URL', 'Page not found or query failed'] for item in x))]"
      ]
    },
    {
      "cell_type": "code",
      "execution_count": null,
      "metadata": {
        "id": "tO4P50eGvvrB"
      },
      "outputs": [],
      "source": [
        "train_df.rename(columns={\n",
        "    'claim': 'Claim',\n",
        "    'evidence_id': 'ID'\n",
        "}, inplace=True)\n",
        "\n",
        "train_df = train_df[['Claim', 'Evidence', 'ID', 'Label']]\n",
        "train_df.to_csv('train_pairs.csv', index=False)\n",
        "print(\"File saved successfully as 'train_pairs.csv'\")\n",
        "dev_df.rename(columns={\n",
        "    'claim': 'Claim',\n",
        "    'evidence_id': 'ID'\n",
        "}, inplace=True)\n",
        "dev_df = dev_df[['Claim', 'Evidence', 'ID', 'Label']]\n",
        "dev_df.to_csv('val_pairs.csv', index=False)\n",
        "print(\"File saved successfully as 'val_pairs.csv'\")\n",
        "test_df.rename(columns={\n",
        "    'claim': 'Claim',\n",
        "    'evidence_id': 'ID'\n",
        "}, inplace=True)\n",
        "test_df = test_df[['Claim', 'Evidence', 'ID', 'Label']]\n",
        "test_df.to_csv('test_pairs.csv', index=False)\n",
        "print(\"File saved successfully as 'test_pairs.csv'\")"
      ]
    },
    {
      "cell_type": "markdown",
      "metadata": {
        "id": "azWL0eNDm6KT"
      },
      "source": [
        "##Data Preprocessing"
      ]
    },
    {
      "cell_type": "code",
      "execution_count": 144,
      "metadata": {
        "id": "RlJwcZXMx1tJ"
      },
      "outputs": [],
      "source": [
        "train_df = pd.read_csv('/content/test_pairs.csv')\n",
        "val_df = pd.read_csv('/content/val_pairs.csv')\n",
        "test_df = pd.read_csv('/content/test_pairs.csv')"
      ]
    },
    {
      "cell_type": "code",
      "execution_count": 145,
      "metadata": {
        "colab": {
          "base_uri": "https://localhost:8080/"
        },
        "id": "EvkrVm-JVIPj",
        "outputId": "f9f2fec7-90a0-4d3e-b230-ac4e8db9b5e1"
      },
      "outputs": [
        {
          "output_type": "stream",
          "name": "stdout",
          "text": [
            "Training data shape: (10000, 5)\n",
            "Validation data shape: (1000, 5)\n",
            "Test data shape: (1000, 5)\n"
          ]
        }
      ],
      "source": [
        "train_df = train_df.sample(n=10000,replace=True)\n",
        "val_df = val_df.sample(n=1000,replace=True)\n",
        "test_df = test_df.sample(n=1000,replace=True)\n",
        "\n",
        "# Check the shape of the DataFrames to confirm\n",
        "print(f\"Training data shape: {train_df.shape}\")\n",
        "print(f\"Validation data shape: {val_df.shape}\")\n",
        "print(f\"Test data shape: {test_df.shape}\")"
      ]
    },
    {
      "cell_type": "code",
      "execution_count": 146,
      "metadata": {
        "id": "lmjyRxNgJ6ZF"
      },
      "outputs": [],
      "source": [
        "train_df.reset_index(drop=True, inplace=True)\n",
        "val_df.reset_index(drop=True, inplace=True)\n",
        "test_df.reset_index(drop=True, inplace=True)"
      ]
    },
    {
      "cell_type": "code",
      "execution_count": 147,
      "metadata": {
        "colab": {
          "base_uri": "https://localhost:8080/",
          "height": 306
        },
        "id": "DCh4-Ql8pSuh",
        "outputId": "4e5437e6-ef9b-47d8-d7d4-657c82bbb54b"
      },
      "outputs": [
        {
          "output_type": "execute_result",
          "data": {
            "text/plain": [
              "   Unnamed: 0                                              Claim  \\\n",
              "0        3814  Chris Bosh won his first NBA Finals title in 2...   \n",
              "1        7039                  Michael Hutchence has yet to die.   \n",
              "2        6430  1635 is the year when the widow of Henry Conde...   \n",
              "3        4263                       Alex Jones was born in 1973.   \n",
              "4        4310                   Bonobos live south of the river.   \n",
              "\n",
              "                                            Evidence      ID     Label  \n",
              "0  8\\tBosh won his first NBA title after Miami de...  107273  SUPPORTS  \n",
              "1  0\\tMichael Kelland John Hutchence -LRB- 22 Jan...   97957   REFUTES  \n",
              "2  55\\tHis widow , Elizabeth , was buried there o...   14693  SUPPORTS  \n",
              "3  0\\tAlexander Emerick Jones -LRB- born February...  108198   REFUTES  \n",
              "4  12\\tBonobos live south of the river , and ther...   26381  SUPPORTS  "
            ],
            "text/html": [
              "\n",
              "  <div id=\"df-2c876bd3-024c-4c4c-abc2-4550dd8ce535\" class=\"colab-df-container\">\n",
              "    <div>\n",
              "<style scoped>\n",
              "    .dataframe tbody tr th:only-of-type {\n",
              "        vertical-align: middle;\n",
              "    }\n",
              "\n",
              "    .dataframe tbody tr th {\n",
              "        vertical-align: top;\n",
              "    }\n",
              "\n",
              "    .dataframe thead th {\n",
              "        text-align: right;\n",
              "    }\n",
              "</style>\n",
              "<table border=\"1\" class=\"dataframe\">\n",
              "  <thead>\n",
              "    <tr style=\"text-align: right;\">\n",
              "      <th></th>\n",
              "      <th>Unnamed: 0</th>\n",
              "      <th>Claim</th>\n",
              "      <th>Evidence</th>\n",
              "      <th>ID</th>\n",
              "      <th>Label</th>\n",
              "    </tr>\n",
              "  </thead>\n",
              "  <tbody>\n",
              "    <tr>\n",
              "      <th>0</th>\n",
              "      <td>3814</td>\n",
              "      <td>Chris Bosh won his first NBA Finals title in 2...</td>\n",
              "      <td>8\\tBosh won his first NBA title after Miami de...</td>\n",
              "      <td>107273</td>\n",
              "      <td>SUPPORTS</td>\n",
              "    </tr>\n",
              "    <tr>\n",
              "      <th>1</th>\n",
              "      <td>7039</td>\n",
              "      <td>Michael Hutchence has yet to die.</td>\n",
              "      <td>0\\tMichael Kelland John Hutchence -LRB- 22 Jan...</td>\n",
              "      <td>97957</td>\n",
              "      <td>REFUTES</td>\n",
              "    </tr>\n",
              "    <tr>\n",
              "      <th>2</th>\n",
              "      <td>6430</td>\n",
              "      <td>1635 is the year when the widow of Henry Conde...</td>\n",
              "      <td>55\\tHis widow , Elizabeth , was buried there o...</td>\n",
              "      <td>14693</td>\n",
              "      <td>SUPPORTS</td>\n",
              "    </tr>\n",
              "    <tr>\n",
              "      <th>3</th>\n",
              "      <td>4263</td>\n",
              "      <td>Alex Jones was born in 1973.</td>\n",
              "      <td>0\\tAlexander Emerick Jones -LRB- born February...</td>\n",
              "      <td>108198</td>\n",
              "      <td>REFUTES</td>\n",
              "    </tr>\n",
              "    <tr>\n",
              "      <th>4</th>\n",
              "      <td>4310</td>\n",
              "      <td>Bonobos live south of the river.</td>\n",
              "      <td>12\\tBonobos live south of the river , and ther...</td>\n",
              "      <td>26381</td>\n",
              "      <td>SUPPORTS</td>\n",
              "    </tr>\n",
              "  </tbody>\n",
              "</table>\n",
              "</div>\n",
              "    <div class=\"colab-df-buttons\">\n",
              "\n",
              "  <div class=\"colab-df-container\">\n",
              "    <button class=\"colab-df-convert\" onclick=\"convertToInteractive('df-2c876bd3-024c-4c4c-abc2-4550dd8ce535')\"\n",
              "            title=\"Convert this dataframe to an interactive table.\"\n",
              "            style=\"display:none;\">\n",
              "\n",
              "  <svg xmlns=\"http://www.w3.org/2000/svg\" height=\"24px\" viewBox=\"0 -960 960 960\">\n",
              "    <path d=\"M120-120v-720h720v720H120Zm60-500h600v-160H180v160Zm220 220h160v-160H400v160Zm0 220h160v-160H400v160ZM180-400h160v-160H180v160Zm440 0h160v-160H620v160ZM180-180h160v-160H180v160Zm440 0h160v-160H620v160Z\"/>\n",
              "  </svg>\n",
              "    </button>\n",
              "\n",
              "  <style>\n",
              "    .colab-df-container {\n",
              "      display:flex;\n",
              "      gap: 12px;\n",
              "    }\n",
              "\n",
              "    .colab-df-convert {\n",
              "      background-color: #E8F0FE;\n",
              "      border: none;\n",
              "      border-radius: 50%;\n",
              "      cursor: pointer;\n",
              "      display: none;\n",
              "      fill: #1967D2;\n",
              "      height: 32px;\n",
              "      padding: 0 0 0 0;\n",
              "      width: 32px;\n",
              "    }\n",
              "\n",
              "    .colab-df-convert:hover {\n",
              "      background-color: #E2EBFA;\n",
              "      box-shadow: 0px 1px 2px rgba(60, 64, 67, 0.3), 0px 1px 3px 1px rgba(60, 64, 67, 0.15);\n",
              "      fill: #174EA6;\n",
              "    }\n",
              "\n",
              "    .colab-df-buttons div {\n",
              "      margin-bottom: 4px;\n",
              "    }\n",
              "\n",
              "    [theme=dark] .colab-df-convert {\n",
              "      background-color: #3B4455;\n",
              "      fill: #D2E3FC;\n",
              "    }\n",
              "\n",
              "    [theme=dark] .colab-df-convert:hover {\n",
              "      background-color: #434B5C;\n",
              "      box-shadow: 0px 1px 3px 1px rgba(0, 0, 0, 0.15);\n",
              "      filter: drop-shadow(0px 1px 2px rgba(0, 0, 0, 0.3));\n",
              "      fill: #FFFFFF;\n",
              "    }\n",
              "  </style>\n",
              "\n",
              "    <script>\n",
              "      const buttonEl =\n",
              "        document.querySelector('#df-2c876bd3-024c-4c4c-abc2-4550dd8ce535 button.colab-df-convert');\n",
              "      buttonEl.style.display =\n",
              "        google.colab.kernel.accessAllowed ? 'block' : 'none';\n",
              "\n",
              "      async function convertToInteractive(key) {\n",
              "        const element = document.querySelector('#df-2c876bd3-024c-4c4c-abc2-4550dd8ce535');\n",
              "        const dataTable =\n",
              "          await google.colab.kernel.invokeFunction('convertToInteractive',\n",
              "                                                    [key], {});\n",
              "        if (!dataTable) return;\n",
              "\n",
              "        const docLinkHtml = 'Like what you see? Visit the ' +\n",
              "          '<a target=\"_blank\" href=https://colab.research.google.com/notebooks/data_table.ipynb>data table notebook</a>'\n",
              "          + ' to learn more about interactive tables.';\n",
              "        element.innerHTML = '';\n",
              "        dataTable['output_type'] = 'display_data';\n",
              "        await google.colab.output.renderOutput(dataTable, element);\n",
              "        const docLink = document.createElement('div');\n",
              "        docLink.innerHTML = docLinkHtml;\n",
              "        element.appendChild(docLink);\n",
              "      }\n",
              "    </script>\n",
              "  </div>\n",
              "\n",
              "\n",
              "<div id=\"df-9aea7086-b5dc-460a-b69f-86a327f8e7a5\">\n",
              "  <button class=\"colab-df-quickchart\" onclick=\"quickchart('df-9aea7086-b5dc-460a-b69f-86a327f8e7a5')\"\n",
              "            title=\"Suggest charts\"\n",
              "            style=\"display:none;\">\n",
              "\n",
              "<svg xmlns=\"http://www.w3.org/2000/svg\" height=\"24px\"viewBox=\"0 0 24 24\"\n",
              "     width=\"24px\">\n",
              "    <g>\n",
              "        <path d=\"M19 3H5c-1.1 0-2 .9-2 2v14c0 1.1.9 2 2 2h14c1.1 0 2-.9 2-2V5c0-1.1-.9-2-2-2zM9 17H7v-7h2v7zm4 0h-2V7h2v10zm4 0h-2v-4h2v4z\"/>\n",
              "    </g>\n",
              "</svg>\n",
              "  </button>\n",
              "\n",
              "<style>\n",
              "  .colab-df-quickchart {\n",
              "      --bg-color: #E8F0FE;\n",
              "      --fill-color: #1967D2;\n",
              "      --hover-bg-color: #E2EBFA;\n",
              "      --hover-fill-color: #174EA6;\n",
              "      --disabled-fill-color: #AAA;\n",
              "      --disabled-bg-color: #DDD;\n",
              "  }\n",
              "\n",
              "  [theme=dark] .colab-df-quickchart {\n",
              "      --bg-color: #3B4455;\n",
              "      --fill-color: #D2E3FC;\n",
              "      --hover-bg-color: #434B5C;\n",
              "      --hover-fill-color: #FFFFFF;\n",
              "      --disabled-bg-color: #3B4455;\n",
              "      --disabled-fill-color: #666;\n",
              "  }\n",
              "\n",
              "  .colab-df-quickchart {\n",
              "    background-color: var(--bg-color);\n",
              "    border: none;\n",
              "    border-radius: 50%;\n",
              "    cursor: pointer;\n",
              "    display: none;\n",
              "    fill: var(--fill-color);\n",
              "    height: 32px;\n",
              "    padding: 0;\n",
              "    width: 32px;\n",
              "  }\n",
              "\n",
              "  .colab-df-quickchart:hover {\n",
              "    background-color: var(--hover-bg-color);\n",
              "    box-shadow: 0 1px 2px rgba(60, 64, 67, 0.3), 0 1px 3px 1px rgba(60, 64, 67, 0.15);\n",
              "    fill: var(--button-hover-fill-color);\n",
              "  }\n",
              "\n",
              "  .colab-df-quickchart-complete:disabled,\n",
              "  .colab-df-quickchart-complete:disabled:hover {\n",
              "    background-color: var(--disabled-bg-color);\n",
              "    fill: var(--disabled-fill-color);\n",
              "    box-shadow: none;\n",
              "  }\n",
              "\n",
              "  .colab-df-spinner {\n",
              "    border: 2px solid var(--fill-color);\n",
              "    border-color: transparent;\n",
              "    border-bottom-color: var(--fill-color);\n",
              "    animation:\n",
              "      spin 1s steps(1) infinite;\n",
              "  }\n",
              "\n",
              "  @keyframes spin {\n",
              "    0% {\n",
              "      border-color: transparent;\n",
              "      border-bottom-color: var(--fill-color);\n",
              "      border-left-color: var(--fill-color);\n",
              "    }\n",
              "    20% {\n",
              "      border-color: transparent;\n",
              "      border-left-color: var(--fill-color);\n",
              "      border-top-color: var(--fill-color);\n",
              "    }\n",
              "    30% {\n",
              "      border-color: transparent;\n",
              "      border-left-color: var(--fill-color);\n",
              "      border-top-color: var(--fill-color);\n",
              "      border-right-color: var(--fill-color);\n",
              "    }\n",
              "    40% {\n",
              "      border-color: transparent;\n",
              "      border-right-color: var(--fill-color);\n",
              "      border-top-color: var(--fill-color);\n",
              "    }\n",
              "    60% {\n",
              "      border-color: transparent;\n",
              "      border-right-color: var(--fill-color);\n",
              "    }\n",
              "    80% {\n",
              "      border-color: transparent;\n",
              "      border-right-color: var(--fill-color);\n",
              "      border-bottom-color: var(--fill-color);\n",
              "    }\n",
              "    90% {\n",
              "      border-color: transparent;\n",
              "      border-bottom-color: var(--fill-color);\n",
              "    }\n",
              "  }\n",
              "</style>\n",
              "\n",
              "  <script>\n",
              "    async function quickchart(key) {\n",
              "      const quickchartButtonEl =\n",
              "        document.querySelector('#' + key + ' button');\n",
              "      quickchartButtonEl.disabled = true;  // To prevent multiple clicks.\n",
              "      quickchartButtonEl.classList.add('colab-df-spinner');\n",
              "      try {\n",
              "        const charts = await google.colab.kernel.invokeFunction(\n",
              "            'suggestCharts', [key], {});\n",
              "      } catch (error) {\n",
              "        console.error('Error during call to suggestCharts:', error);\n",
              "      }\n",
              "      quickchartButtonEl.classList.remove('colab-df-spinner');\n",
              "      quickchartButtonEl.classList.add('colab-df-quickchart-complete');\n",
              "    }\n",
              "    (() => {\n",
              "      let quickchartButtonEl =\n",
              "        document.querySelector('#df-9aea7086-b5dc-460a-b69f-86a327f8e7a5 button');\n",
              "      quickchartButtonEl.style.display =\n",
              "        google.colab.kernel.accessAllowed ? 'block' : 'none';\n",
              "    })();\n",
              "  </script>\n",
              "</div>\n",
              "\n",
              "    </div>\n",
              "  </div>\n"
            ],
            "application/vnd.google.colaboratory.intrinsic+json": {
              "type": "dataframe",
              "variable_name": "train_df",
              "summary": "{\n  \"name\": \"train_df\",\n  \"rows\": 10000,\n  \"fields\": [\n    {\n      \"column\": \"Unnamed: 0\",\n      \"properties\": {\n        \"dtype\": \"number\",\n        \"std\": 2075,\n        \"min\": 0,\n        \"max\": 7187,\n        \"num_unique_values\": 5403,\n        \"samples\": [\n          1281,\n          460,\n          93\n        ],\n        \"semantic_type\": \"\",\n        \"description\": \"\"\n      }\n    },\n    {\n      \"column\": \"Claim\",\n      \"properties\": {\n        \"dtype\": \"string\",\n        \"num_unique_values\": 5016,\n        \"samples\": [\n          \"Scandal is fronted by someone born on June 26, 1957.\",\n          \"Vera Wang is based in NYC.\",\n          \"Psych (season 2) originally aired on the USA Network.\"\n        ],\n        \"semantic_type\": \"\",\n        \"description\": \"\"\n      }\n    },\n    {\n      \"column\": \"Evidence\",\n      \"properties\": {\n        \"dtype\": \"category\",\n        \"num_unique_values\": 1573,\n        \"samples\": [\n          \"2\\tSedgwick 's role in the series won her a Golden Globe Award in 2007 and an Emmy Award in 2010 .\\tGolden Globe Award\\tGolden Globe Award\\tEmmy Award\\tEmmy Award\\tGolden Globe\\tGolden Globe\",\n          \"17\\tThe aircraft was then used to expand non-stop service on medium - to long-haul intercontinental routes .\\tnon-stop\\tNon-stop flight\",\n          \"0\\tHerzogenaurach -LRB- East Franconian : Herziaura -RRB- is a town in the district of Erlangen-H\\u00f6chstadt , in Bavaria , Germany .\\tEast Franconian\\tEast Franconian German\\tdistrict\\tDistricts of Germany\\tErlangen-H\\u00f6chstadt\\tErlangen-H\\u00f6chstadt\\tBavaria\\tBavaria\\tGermany\\tGermany\"\n        ],\n        \"semantic_type\": \"\",\n        \"description\": \"\"\n      }\n    },\n    {\n      \"column\": \"ID\",\n      \"properties\": {\n        \"dtype\": \"number\",\n        \"std\": 65586,\n        \"min\": 6,\n        \"max\": 228694,\n        \"num_unique_values\": 5070,\n        \"samples\": [\n          193834,\n          205090,\n          127013\n        ],\n        \"semantic_type\": \"\",\n        \"description\": \"\"\n      }\n    },\n    {\n      \"column\": \"Label\",\n      \"properties\": {\n        \"dtype\": \"category\",\n        \"num_unique_values\": 2,\n        \"samples\": [\n          \"REFUTES\",\n          \"SUPPORTS\"\n        ],\n        \"semantic_type\": \"\",\n        \"description\": \"\"\n      }\n    }\n  ]\n}"
            }
          },
          "metadata": {},
          "execution_count": 147
        }
      ],
      "source": [
        "train_df.head(5)"
      ]
    },
    {
      "cell_type": "code",
      "execution_count": 148,
      "metadata": {
        "colab": {
          "base_uri": "https://localhost:8080/",
          "height": 368
        },
        "id": "EaGaxon1omGH",
        "outputId": "59e7bee7-dcdb-4a50-a258-093866b89182"
      },
      "outputs": [
        {
          "output_type": "display_data",
          "data": {
            "text/plain": [
              "<Figure size 1300x400 with 3 Axes>"
            ],
            "image/png": "[encoded data removed]"
          },
          "metadata": {}
        }
      ],
      "source": [
        "# plot the distribution of the labels\n",
        "fig = plt.figure(figsize=(13, 4))\n",
        "fig.add_subplot(131)\n",
        "ax1 = train_df['Label'].value_counts().plot(kind='bar')\n",
        "ax1.set_title('Training Data')\n",
        "fig.add_subplot(132)\n",
        "ax2 = val_df['Label'].value_counts().plot(kind='bar')\n",
        "ax2.set_title('Validation Data')\n",
        "fig.add_subplot(133)\n",
        "ax3 = test_df['Label'].value_counts().plot(kind='bar')\n",
        "ax3.set_title('Test Data')\n",
        "plt.show()"
      ]
    },
    {
      "cell_type": "code",
      "execution_count": 149,
      "metadata": {
        "colab": {
          "base_uri": "https://localhost:8080/"
        },
        "id": "UrXs8ri_KJNB",
        "outputId": "653edb08-e23e-40ab-befc-c0821394dcf2"
      },
      "outputs": [
        {
          "output_type": "stream",
          "name": "stdout",
          "text": [
            "Preprocessing completed!\n"
          ]
        }
      ],
      "source": [
        "REPLACE_BY_SPACE_RE = re.compile(r'[/(){}\\[\\]\\|@`\\']')\n",
        "REMOVE_BEGINNING_EVIDENCES_RE = re.compile(r'\\b[0-9]{1,}\\t')\n",
        "REMOVE_END_EVIDENCES_RE = re.compile(r'\\.\\t.*\\b')\n",
        "SPLIT_COMPOUND_RE = re.compile(r'\\w+(-)\\w+')\n",
        "REMOVE_ROUNDED_BRACKETS_RE = re.compile(r'-LRB-|-RRB-')\n",
        "REMOVE_BETWEEN_SQUARE_BRACKETS_RE = re.compile(r'-LSB-(.*?)-RSB-')\n",
        "GOOD_SYMBOLS_RE = re.compile(r'[^0-9a-z \\.;]')\n",
        "\n",
        "def preprocess_text(text: str, column_type: str) -> str:\n",
        "\n",
        "    if column_type == 'Evidence':\n",
        "        text = REMOVE_BEGINNING_EVIDENCES_RE.sub('', text)\n",
        "        text = REMOVE_END_EVIDENCES_RE.sub('', text)\n",
        "        text = REMOVE_ROUNDED_BRACKETS_RE.sub('', text)\n",
        "        text = REMOVE_BETWEEN_SQUARE_BRACKETS_RE.sub('', text)\n",
        "\n",
        "\n",
        "    text = text.lower()\n",
        "    text = REPLACE_BY_SPACE_RE.sub(' ', text)\n",
        "    text = SPLIT_COMPOUND_RE.sub(' ', text)\n",
        "    text = GOOD_SYMBOLS_RE.sub('', text)\n",
        "    text = text.strip()\n",
        "\n",
        "    return text\n",
        "\n",
        "\n",
        "train_df['Claim'] = train_df['Claim'].apply(lambda txt: preprocess_text(txt, 'Claim'))\n",
        "train_df['Evidence'] = train_df['Evidence'].apply(lambda txt: preprocess_text(txt, 'Evidence'))\n",
        "\n",
        "val_df['Claim'] = val_df['Claim'].apply(lambda txt: preprocess_text(txt, 'Claim'))\n",
        "val_df['Evidence'] = val_df['Evidence'].apply(lambda txt: preprocess_text(txt, 'Evidence'))\n",
        "\n",
        "test_df['Claim'] = test_df['Claim'].apply(lambda txt: preprocess_text(txt, 'Claim'))\n",
        "test_df['Evidence'] = test_df['Evidence'].apply(lambda txt: preprocess_text(txt, 'Evidence'))\n",
        "\n",
        "print('Preprocessing completed!')"
      ]
    },
    {
      "cell_type": "markdown",
      "metadata": {
        "id": "dpUTvQCIUEQk"
      },
      "source": [
        "##Create data for model"
      ]
    },
    {
      "cell_type": "code",
      "execution_count": 100,
      "metadata": {
        "id": "DxU5K8lHGADG"
      },
      "outputs": [],
      "source": [
        "# Custom Dataset Class\n",
        "class FactCheckingDataset(Dataset):\n",
        "    def __init__(self, claims, evidence, labels, tokenizer, max_len=512):\n",
        "        self.claims = claims\n",
        "        self.evidence = evidence\n",
        "        self.labels = labels\n",
        "        self.tokenizer = tokenizer\n",
        "        self.max_len = max_len\n",
        "\n",
        "    def __len__(self):\n",
        "        return len(self.claims)\n",
        "\n",
        "    def __getitem__(self, idx):\n",
        "        claim = self.claims[idx]\n",
        "        evidence = self.evidence[idx]\n",
        "        label = self.labels[idx]\n",
        "\n",
        "        # Define label mapping\n",
        "        label_mapping = {'SUPPORTS': 0, 'REFUTES': 1}\n",
        "        # Map string labels to integers\n",
        "        label = label_mapping[label]\n",
        "\n",
        "        # Tokenize input text\n",
        "        inputs = self.tokenizer.encode_plus(\n",
        "            claim,\n",
        "            evidence,\n",
        "            add_special_tokens=True,\n",
        "            max_length=self.max_len,\n",
        "            padding='max_length',\n",
        "            truncation=True,\n",
        "            return_attention_mask=True,\n",
        "            return_tensors=\"pt\"\n",
        "        )\n",
        "\n",
        "        # Reshape input tensors and return\n",
        "        inputs = {key: val.squeeze(0) for key, val in inputs.items()}\n",
        "        inputs['labels'] = torch.tensor(label, dtype=torch.long)\n",
        "\n",
        "        return inputs"
      ]
    },
    {
      "cell_type": "code",
      "source": [],
      "metadata": {
        "id": "1S3FCi8d6DQh"
      },
      "execution_count": 139,
      "outputs": []
    },
    {
      "cell_type": "code",
      "source": [
        "class FactCheckingDataset(Dataset):\n",
        "    def __init__(self, claims, evidence, labels, tokenizer, max_len=512):\n",
        "        self.claims = claims\n",
        "        self.evidence = evidence\n",
        "        self.labels = labels  # Assuming labels are already numeric\n",
        "        self.tokenizer = tokenizer\n",
        "        self.max_len = max_len\n",
        "\n",
        "    def __len__(self):\n",
        "        return len(self.claims)\n",
        "\n",
        "    def __getitem__(self, idx):\n",
        "        claim = self.claims[idx]\n",
        "        evidence = self.evidence[idx]\n",
        "        label = self.labels[idx]  # Use the numeric label directly\n",
        "\n",
        "        # Tokenize input text\n",
        "        inputs = self.tokenizer.encode_plus(\n",
        "            claim,\n",
        "            evidence,\n",
        "            add_special_tokens=True,\n",
        "            max_length=self.max_len,\n",
        "            padding='max_length',\n",
        "            truncation=True,\n",
        "            return_attention_mask=True,\n",
        "            return_tensors=\"pt\"\n",
        "        )\n",
        "\n",
        "        # Reshape input tensors and return\n",
        "        inputs = {key: val.squeeze(0) for key, val in inputs.items()}\n",
        "        inputs['labels'] = torch.tensor(label, dtype=torch.long)\n",
        "\n",
        "        return inputs\n"
      ],
      "metadata": {
        "id": "P7IQUtiA5yAe"
      },
      "execution_count": 150,
      "outputs": []
    },
    {
      "cell_type": "code",
      "execution_count": 151,
      "metadata": {
        "id": "561O0HkkUCEB"
      },
      "outputs": [],
      "source": [
        "# Prepare Data\n",
        "label_mapping = {'SUPPORTS': 0, 'REFUTES': 1}\n",
        "test_df['Numeric_Label'] = test_df['Label'].map(label_mapping)\n",
        "test_labels = test_df['Numeric_Label'].tolist()\n",
        "train_df['Numeric_Label'] = train_df['Label'].map(label_mapping)\n",
        "train_labels = train_df['Numeric_Label'].tolist()\n",
        "val_df['Numeric_Label'] = val_df['Label'].map(label_mapping)\n",
        "\n",
        "val_labels = val_df['Numeric_Label'].tolist()\n",
        "train_claims = train_df['Claim'].tolist()\n",
        "train_evidence = train_df['Evidence'].tolist()\n",
        "val_claims = val_df['Claim'].tolist()\n",
        "val_evidence = val_df['Evidence'].tolist()\n",
        "test_claims = test_df['Claim'].tolist()\n",
        "test_evidence = test_df['Evidence'].tolist()"
      ]
    },
    {
      "cell_type": "markdown",
      "metadata": {
        "id": "jh5dnPLBQC-k"
      },
      "source": [
        "##BERT Model training"
      ]
    },
    {
      "cell_type": "code",
      "execution_count": 152,
      "metadata": {
        "colab": {
          "base_uri": "https://localhost:8080/"
        },
        "id": "zZBnTmZiHQPC",
        "outputId": "c21fd9a4-3f3d-481b-8f97-9eef0bf9480e"
      },
      "outputs": [
        {
          "output_type": "stream",
          "name": "stderr",
          "text": [
            "Some weights of BertForSequenceClassification were not initialized from the model checkpoint at bert-base-uncased and are newly initialized: ['classifier.bias', 'classifier.weight']\n",
            "You should probably TRAIN this model on a down-stream task to be able to use it for predictions and inference.\n"
          ]
        }
      ],
      "source": [
        "# Load pre-trained BERT tokenizer and model\n",
        "tokenizer_bert = BertTokenizer.from_pretrained('bert-base-uncased')\n",
        "bert_model = BertForSequenceClassification.from_pretrained('bert-base-uncased', num_labels=2)\n",
        "\n",
        "# Create datasets\n",
        "train_dataset = FactCheckingDataset(train_claims, train_evidence, train_labels, tokenizer_bert)\n",
        "val_dataset = FactCheckingDataset(val_claims, val_evidence, val_labels, tokenizer_bert)\n",
        "test_dataset = FactCheckingDataset(test_claims, test_evidence, test_labels, tokenizer_bert)"
      ]
    },
    {
      "cell_type": "code",
      "execution_count": 153,
      "metadata": {
        "colab": {
          "base_uri": "https://localhost:8080/"
        },
        "id": "Wn8MR_3-GAH0",
        "outputId": "1107a210-4850-4288-8b7a-79a9a224c493"
      },
      "outputs": [
        {
          "output_type": "stream",
          "name": "stderr",
          "text": [
            "/usr/local/lib/python3.10/dist-packages/transformers/training_args.py:1494: FutureWarning: `evaluation_strategy` is deprecated and will be removed in version 4.46 of 🤗 Transformers. Use `eval_strategy` instead\n",
            "  warnings.warn(\n"
          ]
        }
      ],
      "source": [
        "# Training Arguments\n",
        "training_args = TrainingArguments(\n",
        "    output_dir='./results',\n",
        "    num_train_epochs=3,\n",
        "    per_device_train_batch_size=32,\n",
        "    per_device_eval_batch_size=32,\n",
        "    warmup_steps=50,\n",
        "    weight_decay=0.01,\n",
        "    logging_dir='./logs',\n",
        "    logging_steps=10,\n",
        "    evaluation_strategy=\"epoch\",\n",
        "    save_strategy=\"epoch\"\n",
        ")"
      ]
    },
    {
      "cell_type": "code",
      "execution_count": 154,
      "metadata": {
        "id": "RGdENi8lSeXD",
        "colab": {
          "base_uri": "https://localhost:8080/",
          "height": 219
        },
        "outputId": "af5bd4ac-b821-438c-f369-eec62f6d6394"
      },
      "outputs": [
        {
          "output_type": "display_data",
          "data": {
            "text/plain": [
              "<IPython.core.display.HTML object>"
            ],
            "text/html": [
              "\n",
              "    <div>\n",
              "      \n",
              "      <progress value='939' max='939' style='width:300px; height:20px; vertical-align: middle;'></progress>\n",
              "      [939/939 10:14, Epoch 3/3]\n",
              "    </div>\n",
              "    <table border=\"1\" class=\"dataframe\">\n",
              "  <thead>\n",
              " <tr style=\"text-align: left;\">\n",
              "      <th>Epoch</th>\n",
              "      <th>Training Loss</th>\n",
              "      <th>Validation Loss</th>\n",
              "    </tr>\n",
              "  </thead>\n",
              "  <tbody>\n",
              "    <tr>\n",
              "      <td>1</td>\n",
              "      <td>0.270700</td>\n",
              "      <td>0.356646</td>\n",
              "    </tr>\n",
              "    <tr>\n",
              "      <td>2</td>\n",
              "      <td>0.101200</td>\n",
              "      <td>0.438777</td>\n",
              "    </tr>\n",
              "    <tr>\n",
              "      <td>3</td>\n",
              "      <td>0.117100</td>\n",
              "      <td>0.515856</td>\n",
              "    </tr>\n",
              "  </tbody>\n",
              "</table><p>"
            ]
          },
          "metadata": {}
        },
        {
          "output_type": "execute_result",
          "data": {
            "text/plain": [
              "TrainOutput(global_step=939, training_loss=0.23372979197131433, metrics={'train_runtime': 615.4399, 'train_samples_per_second': 48.746, 'train_steps_per_second': 1.526, 'total_flos': 7893331660800000.0, 'train_loss': 0.23372979197131433, 'epoch': 3.0})"
            ]
          },
          "metadata": {},
          "execution_count": 154
        }
      ],
      "source": [
        "# Trainer for BERT\n",
        "bert_trainer = Trainer(\n",
        "    model=bert_model,\n",
        "    args=training_args,\n",
        "    train_dataset=train_dataset,\n",
        "    eval_dataset=val_dataset\n",
        ")\n",
        "\n",
        "# Train the BERT model\n",
        "bert_trainer.train()"
      ]
    },
    {
      "cell_type": "code",
      "execution_count": 155,
      "metadata": {
        "colab": {
          "base_uri": "https://localhost:8080/",
          "height": 34
        },
        "id": "jfNdWQp2GAOI",
        "outputId": "fa1e3dd6-55c2-4b49-c5dc-489c6667dfa6"
      },
      "outputs": [
        {
          "output_type": "display_data",
          "data": {
            "text/plain": [
              "<IPython.core.display.HTML object>"
            ],
            "text/html": []
          },
          "metadata": {}
        },
        {
          "output_type": "stream",
          "name": "stdout",
          "text": [
            "BERT Accuracy: 0.961\n"
          ]
        }
      ],
      "source": [
        "bert_predictions = bert_trainer.predict(test_dataset)\n",
        "bert_preds = bert_predictions.predictions.argmax(-1)\n",
        "bert_accuracy = accuracy_score(test_labels, bert_preds)\n",
        "print(f\"BERT Accuracy: {bert_accuracy}\")"
      ]
    },
    {
      "cell_type": "markdown",
      "metadata": {
        "id": "dGfloxXbRbrS"
      },
      "source": [
        "##RoBERTa Model training"
      ]
    },
    {
      "cell_type": "code",
      "execution_count": 156,
      "metadata": {
        "colab": {
          "base_uri": "https://localhost:8080/"
        },
        "id": "6GJ8gtN5GAR2",
        "outputId": "f9d259c9-6bb2-4221-e03e-5c4c9a2329aa"
      },
      "outputs": [
        {
          "output_type": "stream",
          "name": "stderr",
          "text": [
            "Some weights of RobertaForSequenceClassification were not initialized from the model checkpoint at roberta-base and are newly initialized: ['classifier.dense.bias', 'classifier.dense.weight', 'classifier.out_proj.bias', 'classifier.out_proj.weight']\n",
            "You should probably TRAIN this model on a down-stream task to be able to use it for predictions and inference.\n"
          ]
        }
      ],
      "source": [
        "tokenizer_roberta = RobertaTokenizer.from_pretrained('roberta-base')\n",
        "roberta_model = RobertaForSequenceClassification.from_pretrained('roberta-base', num_labels=2)\n",
        "\n",
        "train_dataset_RoBERTa = FactCheckingDataset(train_claims, train_evidence, train_labels, tokenizer_roberta)\n",
        "val_dataset_RoBERTa = FactCheckingDataset(val_claims, val_evidence, val_labels, tokenizer_roberta)\n",
        "test_dataset_RoBERTa = FactCheckingDataset(test_claims, test_evidence, test_labels, tokenizer_roberta)"
      ]
    },
    {
      "cell_type": "code",
      "execution_count": 157,
      "metadata": {
        "id": "Yhx4H6DDSP8s",
        "colab": {
          "base_uri": "https://localhost:8080/",
          "height": 219
        },
        "outputId": "8d5bb1c0-3f69-452b-8d91-6b6f20120b44"
      },
      "outputs": [
        {
          "output_type": "display_data",
          "data": {
            "text/plain": [
              "<IPython.core.display.HTML object>"
            ],
            "text/html": [
              "\n",
              "    <div>\n",
              "      \n",
              "      <progress value='939' max='939' style='width:300px; height:20px; vertical-align: middle;'></progress>\n",
              "      [939/939 11:26, Epoch 3/3]\n",
              "    </div>\n",
              "    <table border=\"1\" class=\"dataframe\">\n",
              "  <thead>\n",
              " <tr style=\"text-align: left;\">\n",
              "      <th>Epoch</th>\n",
              "      <th>Training Loss</th>\n",
              "      <th>Validation Loss</th>\n",
              "    </tr>\n",
              "  </thead>\n",
              "  <tbody>\n",
              "    <tr>\n",
              "      <td>1</td>\n",
              "      <td>0.247900</td>\n",
              "      <td>0.369333</td>\n",
              "    </tr>\n",
              "    <tr>\n",
              "      <td>2</td>\n",
              "      <td>0.189400</td>\n",
              "      <td>0.408534</td>\n",
              "    </tr>\n",
              "    <tr>\n",
              "      <td>3</td>\n",
              "      <td>0.120100</td>\n",
              "      <td>0.455274</td>\n",
              "    </tr>\n",
              "  </tbody>\n",
              "</table><p>"
            ]
          },
          "metadata": {}
        },
        {
          "output_type": "execute_result",
          "data": {
            "text/plain": [
              "TrainOutput(global_step=939, training_loss=0.2444904277753779, metrics={'train_runtime': 687.5013, 'train_samples_per_second': 43.636, 'train_steps_per_second': 1.366, 'total_flos': 7893331660800000.0, 'train_loss': 0.2444904277753779, 'epoch': 3.0})"
            ]
          },
          "metadata": {},
          "execution_count": 157
        }
      ],
      "source": [
        "# Initialize the Trainer for RoBERTa\n",
        "roberta_trainer = Trainer(\n",
        "    model=roberta_model,\n",
        "    args=training_args,\n",
        "    train_dataset=train_dataset_RoBERTa,\n",
        "    eval_dataset=val_dataset_RoBERTa\n",
        ")\n",
        "\n",
        "# Train the RoBERTa model\n",
        "roberta_trainer.train()"
      ]
    },
    {
      "cell_type": "code",
      "source": [
        "import torch\n",
        "\n",
        "# Clear cache memory in PyTorch\n",
        "torch.cuda.empty_cache()\n",
        "import gc\n",
        "\n",
        "\n",
        "del train_dataset\n",
        "del val_dataset\n",
        "\n",
        "# Run garbage collector\n",
        "gc.collect()\n",
        "\n",
        "# Clear GPU cache\n",
        "torch.cuda.empty_cache()\n"
      ],
      "metadata": {
        "id": "GJEfUqAL7FVu"
      },
      "execution_count": 29,
      "outputs": []
    },
    {
      "cell_type": "code",
      "execution_count": 158,
      "metadata": {
        "colab": {
          "base_uri": "https://localhost:8080/",
          "height": 34
        },
        "id": "POvtSu2tSTMu",
        "outputId": "4f3fd8a9-98d3-4bb9-b9c4-919380a4664e"
      },
      "outputs": [
        {
          "output_type": "display_data",
          "data": {
            "text/plain": [
              "<IPython.core.display.HTML object>"
            ],
            "text/html": []
          },
          "metadata": {}
        },
        {
          "output_type": "stream",
          "name": "stdout",
          "text": [
            "RoBERTa Accuracy: 0.96\n"
          ]
        }
      ],
      "source": [
        "roberta_predictions = roberta_trainer.predict(test_dataset_RoBERTa)\n",
        "roberta_preds = roberta_predictions.predictions.argmax(-1)\n",
        "roberta_accuracy = accuracy_score(test_labels, roberta_preds)\n",
        "print(f\"RoBERTa Accuracy: {roberta_accuracy}\")"
      ]
    },
    {
      "cell_type": "markdown",
      "metadata": {
        "id": "-_KTc9-HT1hL"
      },
      "source": [
        "##XLNet Model training"
      ]
    },
    {
      "cell_type": "code",
      "execution_count": 159,
      "metadata": {
        "colab": {
          "base_uri": "https://localhost:8080/"
        },
        "id": "eJnTuf90T0nV",
        "outputId": "bcc1e640-8966-4889-b0c2-539df3956360"
      },
      "outputs": [
        {
          "output_type": "stream",
          "name": "stderr",
          "text": [
            "Some weights of XLNetForSequenceClassification were not initialized from the model checkpoint at xlnet-base-cased and are newly initialized: ['logits_proj.bias', 'logits_proj.weight', 'sequence_summary.summary.bias', 'sequence_summary.summary.weight']\n",
            "You should probably TRAIN this model on a down-stream task to be able to use it for predictions and inference.\n"
          ]
        }
      ],
      "source": [
        "tokenizer_xlnet = XLNetTokenizer.from_pretrained('xlnet-base-cased')\n",
        "xlnet_model = XLNetForSequenceClassification.from_pretrained('xlnet-base-cased', num_labels=2)\n",
        "\n",
        "train_dataset_XLNet = FactCheckingDataset(train_claims, train_evidence, train_labels, tokenizer_xlnet)\n",
        "val_dataset_XLNet = FactCheckingDataset(val_claims, val_evidence, val_labels, tokenizer_xlnet)\n",
        "test_dataset_XLNet = FactCheckingDataset(test_claims, test_evidence, test_labels, tokenizer_xlnet)"
      ]
    },
    {
      "cell_type": "code",
      "execution_count": 160,
      "metadata": {
        "id": "00tWd4-6Ufh4",
        "colab": {
          "base_uri": "https://localhost:8080/",
          "height": 219
        },
        "outputId": "20d5adc2-d604-46f7-ae91-cf64369eaba3"
      },
      "outputs": [
        {
          "output_type": "display_data",
          "data": {
            "text/plain": [
              "<IPython.core.display.HTML object>"
            ],
            "text/html": [
              "\n",
              "    <div>\n",
              "      \n",
              "      <progress value='939' max='939' style='width:300px; height:20px; vertical-align: middle;'></progress>\n",
              "      [939/939 24:40, Epoch 3/3]\n",
              "    </div>\n",
              "    <table border=\"1\" class=\"dataframe\">\n",
              "  <thead>\n",
              " <tr style=\"text-align: left;\">\n",
              "      <th>Epoch</th>\n",
              "      <th>Training Loss</th>\n",
              "      <th>Validation Loss</th>\n",
              "    </tr>\n",
              "  </thead>\n",
              "  <tbody>\n",
              "    <tr>\n",
              "      <td>1</td>\n",
              "      <td>0.272900</td>\n",
              "      <td>0.429831</td>\n",
              "    </tr>\n",
              "    <tr>\n",
              "      <td>2</td>\n",
              "      <td>0.164900</td>\n",
              "      <td>0.543408</td>\n",
              "    </tr>\n",
              "    <tr>\n",
              "      <td>3</td>\n",
              "      <td>0.070100</td>\n",
              "      <td>0.554187</td>\n",
              "    </tr>\n",
              "  </tbody>\n",
              "</table><p>"
            ]
          },
          "metadata": {}
        },
        {
          "output_type": "execute_result",
          "data": {
            "text/plain": [
              "TrainOutput(global_step=939, training_loss=0.27226683944939806, metrics={'train_runtime': 1482.1427, 'train_samples_per_second': 20.241, 'train_steps_per_second': 0.634, 'total_flos': 8546408386560000.0, 'train_loss': 0.27226683944939806, 'epoch': 3.0})"
            ]
          },
          "metadata": {},
          "execution_count": 160
        }
      ],
      "source": [
        "# Trainer for XLNet\n",
        "xlnet_trainer = Trainer(\n",
        "    model=xlnet_model,\n",
        "    args=training_args,\n",
        "    train_dataset=train_dataset_XLNet,\n",
        "    eval_dataset=val_dataset_XLNet\n",
        ")\n",
        "\n",
        "# Train the XLNet model\n",
        "xlnet_trainer.train()"
      ]
    },
    {
      "cell_type": "code",
      "execution_count": 161,
      "metadata": {
        "id": "wrQe8DxdUyOR",
        "colab": {
          "base_uri": "https://localhost:8080/",
          "height": 34
        },
        "outputId": "c1fa64ac-795b-44de-8333-4ec73a181368"
      },
      "outputs": [
        {
          "output_type": "display_data",
          "data": {
            "text/plain": [
              "<IPython.core.display.HTML object>"
            ],
            "text/html": []
          },
          "metadata": {}
        },
        {
          "output_type": "stream",
          "name": "stdout",
          "text": [
            "XLNet Accuracy: 0.959\n"
          ]
        }
      ],
      "source": [
        "xlnet_predictions = xlnet_trainer.predict(test_dataset_XLNet)\n",
        "xlnet_preds = xlnet_predictions.predictions.argmax(-1)\n",
        "xlnet_accuracy = accuracy_score(test_labels, xlnet_preds)\n",
        "print(f\"XLNet Accuracy: {xlnet_accuracy}\")"
      ]
    },
    {
      "cell_type": "code",
      "source": [],
      "metadata": {
        "id": "SpgRPIie5wM_"
      },
      "execution_count": null,
      "outputs": []
    },
    {
      "cell_type": "markdown",
      "metadata": {
        "id": "JDLn2RWdSUeG"
      },
      "source": [
        "##Accuracy measurements"
      ]
    },
    {
      "cell_type": "code",
      "source": [],
      "metadata": {
        "id": "bIYvBAfe5OBa"
      },
      "execution_count": null,
      "outputs": []
    },
    {
      "cell_type": "code",
      "execution_count": 162,
      "metadata": {
        "colab": {
          "base_uri": "https://localhost:8080/"
        },
        "id": "lwpekq7YGAXx",
        "outputId": "97c84a3d-4755-4ce2-8dc8-3b2b89f926e2"
      },
      "outputs": [
        {
          "output_type": "stream",
          "name": "stdout",
          "text": [
            "BERT Classification Report:\n",
            "               precision    recall  f1-score   support\n",
            "\n",
            "    SUPPORTS       0.96      0.97      0.96       507\n",
            "     REFUTES       0.97      0.96      0.96       493\n",
            "\n",
            "    accuracy                           0.96      1000\n",
            "   macro avg       0.96      0.96      0.96      1000\n",
            "weighted avg       0.96      0.96      0.96      1000\n",
            "\n",
            "RoBERTa Classification Report:\n",
            "               precision    recall  f1-score   support\n",
            "\n",
            "    SUPPORTS       0.97      0.95      0.96       507\n",
            "     REFUTES       0.95      0.97      0.96       493\n",
            "\n",
            "    accuracy                           0.96      1000\n",
            "   macro avg       0.96      0.96      0.96      1000\n",
            "weighted avg       0.96      0.96      0.96      1000\n",
            "\n",
            "XLNet Classification Report:\n",
            "               precision    recall  f1-score   support\n",
            "\n",
            "    SUPPORTS       0.96      0.96      0.96       507\n",
            "     REFUTES       0.96      0.96      0.96       493\n",
            "\n",
            "    accuracy                           0.96      1000\n",
            "   macro avg       0.96      0.96      0.96      1000\n",
            "weighted avg       0.96      0.96      0.96      1000\n",
            "\n"
          ]
        }
      ],
      "source": [
        "# Print classification reports\n",
        "print(\"BERT Classification Report:\\n\", classification_report(test_df['Numeric_Label'], bert_preds, target_names=label_mapping))\n",
        "print(\"RoBERTa Classification Report:\\n\", classification_report(test_df['Numeric_Label'], roberta_preds, target_names=label_mapping))\n",
        "print(\"XLNet Classification Report:\\n\", classification_report(test_df['Numeric_Label'], xlnet_preds, target_names=label_mapping))\n"
      ]
    },
    {
      "cell_type": "code",
      "source": [
        "import matplotlib.pyplot as plt\n",
        "from sklearn.metrics import precision_recall_curve, classification_report\n",
        "\n",
        "# Assuming predictions and true labels are available from earlier steps\n",
        "\n",
        "# BERT Precision-Recall\n",
        "bert_precision, bert_recall, _ = precision_recall_curve(test_df['Numeric_Label'], bert_predictions.predictions[:, 1])\n",
        "\n",
        "# RoBERTa Precision-Recall\n",
        "roberta_precision, roberta_recall, _ = precision_recall_curve(test_df['Numeric_Label'], roberta_predictions.predictions[:, 1])\n",
        "\n",
        "# XLNet Precision-Recall\n",
        "xlnet_precision, xlnet_recall, _ = precision_recall_curve(test_df['Numeric_Label'], xlnet_predictions.predictions[:, 1])\n",
        "\n",
        "# Plot Precision-Recall Curve\n",
        "plt.figure(figsize=(10, 7))\n",
        "plt.plot(bert_recall, bert_precision, label='BERT')\n",
        "plt.plot(roberta_recall, roberta_precision, label='RoBERTa')\n",
        "plt.plot(xlnet_recall, xlnet_precision, label='XLNet')\n",
        "\n",
        "# Add labels and legend\n",
        "plt.xlabel('Recall')\n",
        "plt.ylabel('Precision')\n",
        "plt.title('Precision vs Recall Curve')\n",
        "plt.legend()\n",
        "plt.grid(True)\n",
        "plt.show()\n"
      ],
      "metadata": {
        "colab": {
          "base_uri": "https://localhost:8080/",
          "height": 632
        },
        "id": "Blob2gqyHINv",
        "outputId": "53b66120-5651-4e8a-cfab-6628561824f7"
      },
      "execution_count": 165,
      "outputs": [
        {
          "output_type": "display_data",
          "data": {
            "text/plain": [
              "<Figure size 1000x700 with 1 Axes>"
            ],
            "image/png": "[encoded data removed]"
          },
          "metadata": {}
        }
      ]
    },
    {
      "cell_type": "code",
      "source": [
        "from sklearn.metrics import roc_curve, auc\n",
        "import matplotlib.pyplot as plt\n",
        "\n",
        "# Assuming y_true contains true labels and y_pred_proba contains predicted probabilities for the positive class\n",
        "\n",
        "fpr, tpr, _ = roc_curve(test_df['Numeric_Label'], bert_predictions.predictions[:, 1])\n",
        "roc_auc = auc(fpr, tpr)\n",
        "\n",
        "plt.figure()\n",
        "plt.plot(fpr, tpr, color='darkblue', lw=2, label=f'ROC curve (area = {roc_auc:.2f})')\n",
        "plt.plot([0, 1], [0, 1], color='navy', lw=2, linestyle='--')\n",
        "plt.xlim([0.0, 1.0])\n",
        "plt.ylim([0.0, 1.0])\n",
        "plt.xlabel('False Positive Rate')\n",
        "plt.ylabel('True Positive Rate')\n",
        "plt.title('Receiver Operating Characteristic')\n",
        "plt.legend(loc='lower right')\n",
        "plt.show()\n"
      ],
      "metadata": {
        "colab": {
          "base_uri": "https://localhost:8080/",
          "height": 472
        },
        "id": "3ALr__wZIWs5",
        "outputId": "47a6f74c-4813-465f-c93a-e786ff3317d9"
      },
      "execution_count": 169,
      "outputs": [
        {
          "output_type": "display_data",
          "data": {
            "text/plain": [
              "<Figure size 640x480 with 1 Axes>"
            ],
            "image/png": "[encoded data removed]"
          },
          "metadata": {}
        }
      ]
    },
    {
      "cell_type": "code",
      "execution_count": 163,
      "metadata": {
        "id": "Bs6RiSjtRCtj",
        "colab": {
          "base_uri": "https://localhost:8080/",
          "height": 480
        },
        "outputId": "49d8968f-cbb5-4b3e-a10e-38a16e80fd52"
      },
      "outputs": [
        {
          "output_type": "display_data",
          "data": {
            "text/plain": [
              "<Figure size 1000x500 with 1 Axes>"
            ],
            "image/png": "[encoded data removed]"
          },
          "metadata": {}
        }
      ],
      "source": [
        "# Plot accuracy comparison\n",
        "models = ['BERT', 'RoBERTa', 'XLNet']\n",
        "accuracies = [bert_accuracy, roberta_accuracy, xlnet_accuracy]\n",
        "\n",
        "plt.figure(figsize=(10, 5))\n",
        "plt.bar(models, accuracies, color=['blue', 'green', 'orange'])\n",
        "plt.ylim([0, 1])\n",
        "plt.title('Model Accuracy Comparison on FEVER Dataset')\n",
        "plt.xlabel('Models')\n",
        "plt.ylabel('Accuracy')\n",
        "plt.show()"
      ]
    },
    {
      "cell_type": "code",
      "execution_count": 164,
      "metadata": {
        "id": "oq32Li2nROOl",
        "colab": {
          "base_uri": "https://localhost:8080/",
          "height": 249
        },
        "outputId": "696b9d05-b5a4-4504-a9a7-5032ea7d7ef4"
      },
      "outputs": [
        {
          "output_type": "display_data",
          "data": {
            "text/plain": [
              "<Figure size 1800x500 with 6 Axes>"
            ],
            "image/png": "[encoded data removed]"
          },
          "metadata": {}
        }
      ],
      "source": [
        "# Plot confusion matrices\n",
        "bert_cm = confusion_matrix(test_labels, bert_preds)\n",
        "roberta_cm = confusion_matrix(test_labels, roberta_preds)\n",
        "xlnet_cm = confusion_matrix(test_labels, xlnet_preds)\n",
        "\n",
        "fig, axes = plt.subplots(1, 3, figsize=(18, 5))\n",
        "\n",
        "# BERT\n",
        "sns.heatmap(bert_cm, annot=True, fmt='d', cmap='Blues', ax=axes[0], xticklabels=label_mapping, yticklabels=label_mapping)\n",
        "axes[0].set_title('BERT Confusion Matrix')\n",
        "axes[0].set_xlabel('Predicted')\n",
        "axes[0].set_ylabel('Actual')\n",
        "\n",
        "# # RoBERTa\n",
        "sns.heatmap(roberta_cm, annot=True, fmt='d', cmap='Greens', ax=axes[1], xticklabels=label_mapping, yticklabels=label_mapping)\n",
        "axes[1].set_title('RoBERTa Confusion Matrix')\n",
        "axes[1].set_xlabel('Predicted')\n",
        "axes[1].set_ylabel('Actual')\n",
        "\n",
        "# # XLNet\n",
        "sns.heatmap(xlnet_cm, annot=True, fmt='d', cmap='Oranges', ax=axes[2], xticklabels=label_mapping, yticklabels=label_mapping)\n",
        "axes[2].set_title('XLNet Confusion Matrix')\n",
        "axes[2].set_xlabel('Predicted')\n",
        "axes[2].set_ylabel('Actual')\n",
        "\n",
        "plt.tight_layout()\n",
        "plt.show()\n"
      ]
    }
  ],
  "metadata": {
    "accelerator": "GPU",
    "colab": {
      "gpuType": "A100",
      "machine_shape": "hm",
      "provenance": []
    },
    "kernelspec": {
      "display_name": "Python 3",
      "name": "python3"
    },
    "language_info": {
      "name": "python"
    }
  },
  "nbformat": 4,
  "nbformat_minor": 0
}