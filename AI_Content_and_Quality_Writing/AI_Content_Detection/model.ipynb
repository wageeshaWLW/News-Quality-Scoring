{
 "cells": [
  {
   "cell_type": "code",
   "execution_count": 1,
   "metadata": {},
   "outputs": [
    {
     "name": "stdout",
     "output_type": "stream",
     "text": [
      "\u001b[33mWARNING: Retrying (Retry(total=4, connect=None, read=None, redirect=None, status=None)) after connection broken by 'ProtocolError('Connection aborted.', ConnectionResetError(104, 'Connection reset by peer'))': /simple/bitsandbytes/\u001b[0m\u001b[33m\n",
      "\u001b[0m"
     ]
    }
   ],
   "source": [
    "!pip install -q torch torchinfo bitsandbytes peft trl accelerate datasets transformers sentencepiece evaluate scikit-learn"
   ]
  },
  {
   "cell_type": "code",
   "execution_count": 1,
   "metadata": {},
   "outputs": [],
   "source": [
    "import torch\n",
    "from torchinfo import summary\n",
    "from datasets import load_dataset\n",
    "import sys\n",
    "sys.path.append('../')\n",
    "\n",
    "device = 'cuda' if torch.cuda.is_available() else 'cpu'"
   ]
  },
  {
   "cell_type": "code",
   "execution_count": 2,
   "metadata": {},
   "outputs": [
    {
     "name": "stderr",
     "output_type": "stream",
     "text": [
      "/usr/local/lib/python3.10/dist-packages/transformers/tokenization_utils_base.py:1601: FutureWarning: `clean_up_tokenization_spaces` was not set. It will be set to `True` by default. This behavior will be depracted in transformers v4.45, and will be then set to `False` by default. For more details check this issue: https://github.com/huggingface/transformers/issues/31884\n",
      "  warnings.warn(\n",
      "Some weights of MDMT_DistilBertWrapper were not initialized from the model checkpoint at distilbert-base-uncased and are newly initialized: ['classifiers.0.bias', 'classifiers.0.weight']\n",
      "You should probably TRAIN this model on a down-stream task to be able to use it for predictions and inference.\n",
      "Some weights of MDMT_DistilBertWrapper were not initialized from the model checkpoint at distilbert-base-uncased and are newly initialized because the shapes did not match:\n",
      "- distilbert.embeddings.position_embeddings.weight: found shape torch.Size([512, 768]) in the checkpoint and torch.Size([4096, 768]) in the model instantiated\n",
      "You should probably TRAIN this model on a down-stream task to be able to use it for predictions and inference.\n"
     ]
    }
   ],
   "source": [
    "from transformers import DistilBertTokenizer\n",
    "from MDMT_DistilBert import MDMT_DistilBertConfig, MDMT_DistilBertWrapper\n",
    "\n",
    "config = MDMT_DistilBertConfig(tasks_configs=[dict(target_features=1, criterion_type='BCE')], max_position_embeddings=4096)\n",
    "tokenizer = DistilBertTokenizer.from_pretrained(\"distilbert-base-uncased\")\n",
    "model = MDMT_DistilBertWrapper.from_pretrained(\"distilbert-base-uncased\", config=config, ignore_mismatched_sizes=True).to(device)\n",
    "model.base_model.resize_position_embeddings(4096)"
   ]
  },
  {
   "cell_type": "code",
   "execution_count": 4,
   "metadata": {},
   "outputs": [
    {
     "name": "stdout",
     "output_type": "stream",
     "text": [
      "=========================================================================================================\n",
      "Layer (type:depth-idx)                                  Output Shape              Param #\n",
      "=========================================================================================================\n",
      "MDMT_DistilBertWrapper                                  [1, 1]                    --\n",
      "├─DistilBertModel: 1-1                                  [1, 7, 768]               --\n",
      "│    └─Embeddings: 2-1                                  [1, 7, 768]               --\n",
      "│    │    └─Embedding: 3-1                              [1, 7, 768]               23,440,896\n",
      "│    │    └─Embedding: 3-2                              [1, 7, 768]               1,572,864\n",
      "│    │    └─LayerNorm: 3-3                              [1, 7, 768]               1,536\n",
      "│    │    └─Dropout: 3-4                                [1, 7, 768]               --\n",
      "│    └─Transformer: 2-2                                 [1, 7, 768]               --\n",
      "│    │    └─ModuleList: 3-5                             --                        42,527,232\n",
      "├─ModuleList: 1-2                                       --                        --\n",
      "│    └─Linear: 2-3                                      [1, 1]                    769\n",
      "=========================================================================================================\n",
      "Total params: 67,543,297\n",
      "Trainable params: 67,543,297\n",
      "Non-trainable params: 0\n",
      "Total mult-adds (Units.MEGABYTES): 67.54\n",
      "=========================================================================================================\n",
      "Input size (MB): 0.00\n",
      "Forward/backward pass size (MB): 2.97\n",
      "Params size (MB): 270.17\n",
      "Estimated Total Size (MB): 273.14\n",
      "=========================================================================================================\n"
     ]
    }
   ],
   "source": [
    "text = \"Quote: Imagination is more\"\n",
    "inputs = tokenizer(text, return_tensors=\"pt\").to(device)\n",
    "\n",
    "model(**inputs).logits\n",
    "print(summary(model, input_data=[inputs.input_ids, inputs.attention_mask]))"
   ]
  },
  {
   "cell_type": "code",
   "execution_count": 2,
   "metadata": {},
   "outputs": [],
   "source": [
    "class MTMD_Dataset():\n",
    "    def __init__(self, dataset, task_index, text: str, labels: list[str], label_collator = lambda x: x):\n",
    "        self.dataset = dataset\n",
    "        self.task_index = task_index\n",
    "        self.text = text\n",
    "        self.labels = labels\n",
    "        self.label_collator = label_collator\n",
    "    \n",
    "    def __len__(self):\n",
    "        return len(self.dataset)\n",
    "\n",
    "    def __getitem__(self, idx):\n",
    "        item = self.dataset[idx]\n",
    "        item[\"task_index\"] = self.task_index\n",
    "        item[\"full_text\"] = item[self.text]\n",
    "        item[\"labels\"] = [self.label_collator(item[label]) for label in self.labels]\n",
    "        return item"
   ]
  },
  {
   "cell_type": "code",
   "execution_count": 3,
   "metadata": {},
   "outputs": [],
   "source": [
    "LLM_Detect_dataset = MTMD_Dataset(load_dataset(\"csv\", data_files=\"Training_Essay_Data.csv\", split=\"train\"), task_index=0, text=\"text\", labels=[\"generated\"])"
   ]
  },
  {
   "cell_type": "code",
   "execution_count": 4,
   "metadata": {},
   "outputs": [
    {
     "name": "stdout",
     "output_type": "stream",
     "text": [
      "29116 29\n"
     ]
    }
   ],
   "source": [
    "LLM_Detect_train_dataset, LLM_Detect_eval_dataset = torch.utils.data.random_split(LLM_Detect_dataset, [0.999, 0.001])\n",
    "print(len(LLM_Detect_train_dataset), len(LLM_Detect_eval_dataset))"
   ]
  },
  {
   "cell_type": "code",
   "execution_count": null,
   "metadata": {},
   "outputs": [],
   "source": [
    "AI_Text_dataset = MTMD_Dataset(load_dataset(\"artem9k/ai-text-detection-pile\", split=\"train\"), task_index=0, text=\"text\", labels=[\"source\"], label_collator = lambda label: 0 if label == 'human' else 1)\n",
    "datasets = [AI_Text_dataset]\n",
    "\n",
    "loss_weights = torch.nn.functional.normalize(1/torch.tensor([len(dataset) for dataset in datasets], device=device, dtype=torch.float), p=1.0, dim=0)\n",
    "print(f\"dataset lenghts: {[len(dataset) for dataset in datasets]}, loss weights: {loss_weights.data}\")"
   ]
  },
  {
   "cell_type": "code",
   "execution_count": null,
   "metadata": {},
   "outputs": [
    {
     "name": "stdout",
     "output_type": "stream",
     "text": [
      "62664 6962\n"
     ]
    }
   ],
   "source": [
    "_, AI_Text_train_dataset, AI_Text_eval_dataset = torch.utils.data.random_split(AI_Text_dataset, [0.95, 0.045, 0.005])\n",
    "print(len(AI_Text_train_dataset), len(AI_Text_eval_dataset))"
   ]
  },
  {
   "cell_type": "code",
   "execution_count": 9,
   "metadata": {},
   "outputs": [],
   "source": [
    "def collate_fn(batch):\n",
    "    full_texts = [example[\"full_text\"] for example in batch]\n",
    "    labels = torch.stack([torch.stack([torch.tensor(label, device=device, dtype=torch.float32) for label in example[\"labels\"]]) for example in batch]) if \"labels\" in batch[0] else None\n",
    "    task_indices = torch.tensor([example[\"task_index\"] for example in batch], device=device, dtype=torch.long) if \"task_index\" in batch[0] else None\n",
    "    encoded = tokenizer(full_texts, return_tensors='pt', padding='longest', truncation=True, max_length=config.max_position_embeddings)\n",
    "    output = { \"input_ids\": encoded[\"input_ids\"], \n",
    "               \"attention_mask\": encoded[\"attention_mask\"], \n",
    "               \"labels\": labels, \n",
    "               \"task_indices\": task_indices,\n",
    "               \"loss_weights\": loss_weights }\n",
    "    return output"
   ]
  },
  {
   "cell_type": "code",
   "execution_count": 14,
   "metadata": {},
   "outputs": [],
   "source": [
    "import transformers\n",
    "\n",
    "loss_weights = torch.tensor([1.0], device=device, dtype=torch.float)\n",
    "\n",
    "def preprocess_logits(logits, _):\n",
    "    return torch.round(logits, decimals=0)\n",
    "\n",
    "from sklearn.metrics import accuracy_score, precision_score, recall_score, f1_score\n",
    "\n",
    "def compute_metrics(pred):\n",
    "    labels = pred.label_ids\n",
    "    preds = pred.predictions\n",
    "    \n",
    "    # Calculate accuracy\n",
    "    accuracy = accuracy_score(labels, preds)\n",
    "\n",
    "   # Calculate precision, recall, and F1-score\n",
    "    precision = precision_score(labels, preds, average='weighted')\n",
    "    recall = recall_score(labels, preds, average='weighted')\n",
    "    f1 = f1_score(labels, preds, average='weighted')\n",
    "    \n",
    "    return {\n",
    "        'accuracy': accuracy,\n",
    "        'precision': precision,\n",
    "        'recall': recall,\n",
    "        'f1': f1\n",
    "    }\n",
    "\n",
    "trainer = transformers.Trainer(\n",
    "    model=model,\n",
    "    train_dataset=LLM_Detect_train_dataset,\n",
    "    eval_dataset=LLM_Detect_eval_dataset,\n",
    "    args=transformers.TrainingArguments(\n",
    "        per_device_train_batch_size=1,\n",
    "        gradient_accumulation_steps=16,\n",
    "        warmup_ratio=0.05,\n",
    "        num_train_epochs=1,\n",
    "        learning_rate=1e-5,\n",
    "        output_dir=\"outputs\",\n",
    "        optim=\"adamw_torch\",\n",
    "        remove_unused_columns=False,\n",
    "        dataloader_pin_memory=False,\n",
    "        logging_steps=100//16,\n",
    "        prediction_loss_only=False,\n",
    "        save_strategy=\"no\",\n",
    "    ),\n",
    "    preprocess_logits_for_metrics=preprocess_logits,\n",
    "    compute_metrics=compute_metrics,\n",
    "    data_collator=collate_fn\n",
    ")"
   ]
  },
  {
   "cell_type": "code",
   "execution_count": null,
   "metadata": {},
   "outputs": [],
   "source": [
    "trainer.train()"
   ]
  },
  {
   "cell_type": "code",
   "execution_count": 15,
   "metadata": {},
   "outputs": [
    {
     "data": {
      "text/html": [
       "\n",
       "    <div>\n",
       "      \n",
       "      <progress value='2' max='365' style='width:300px; height:20px; vertical-align: middle;'></progress>\n",
       "      [  2/365 00:00 < 00:35, 10.17 it/s]\n",
       "    </div>\n",
       "    "
      ],
      "text/plain": [
       "<IPython.core.display.HTML object>"
      ]
     },
     "metadata": {},
     "output_type": "display_data"
    },
    {
     "data": {
      "text/plain": [
       "{'eval_loss': 0.017326263710856438,\n",
       " 'eval_accuracy': 0.9975978037062457,\n",
       " 'eval_precision': 0.9975984811719034,\n",
       " 'eval_recall': 0.9975978037062457,\n",
       " 'eval_f1': 0.9975980175790605,\n",
       " 'eval_runtime': 42.9035,\n",
       " 'eval_samples_per_second': 67.92,\n",
       " 'eval_steps_per_second': 8.507}"
      ]
     },
     "execution_count": 15,
     "metadata": {},
     "output_type": "execute_result"
    }
   ],
   "source": [
    "trainer.evaluate()"
   ]
  },
  {
   "cell_type": "code",
   "execution_count": 14,
   "metadata": {},
   "outputs": [
    {
     "data": {
      "text/plain": [
       "{'eval_loss': 2.341658353805542,\n",
       " 'eval_accuracy': 0.5178448867536033,\n",
       " 'eval_precision': 0.53795704297252,\n",
       " 'eval_recall': 0.5178448867536033,\n",
       " 'eval_f1': 0.523430779214353,\n",
       " 'eval_runtime': 43.3632,\n",
       " 'eval_samples_per_second': 67.2,\n",
       " 'eval_steps_per_second': 8.417,\n",
       " 'epoch': 0.9998723349929785}"
      ]
     },
     "execution_count": 14,
     "metadata": {},
     "output_type": "execute_result"
    }
   ],
   "source": [
    "trainer.evaluate(LLM_Detect_eval_dataset)"
   ]
  },
  {
   "cell_type": "code",
   "execution_count": 5,
   "metadata": {},
   "outputs": [
    {
     "name": "stderr",
     "output_type": "stream",
     "text": [
      "/home/tommidi/Projects/NLP_Project/AI_Content_Detection/DetectGPT/model.py:63: SyntaxWarning: invalid escape sequence '\\d'\n",
      "  tokens = list(re.finditer(\"<extra_id_\\d+>\", text))\n",
      "/home/tommidi/Projects/NLP_Project/AI_Content_Detection/DetectGPT/model.py:87: SyntaxWarning: invalid escape sequence '\\d'\n",
      "  pattern = re.compile(\"<extra_id_\\d+>\")\n",
      "/home/tommidi/Projects/NLP_Project/AI_Content_Detection/DetectGPT/model.py:159: SyntaxWarning: invalid escape sequence '\\d'\n",
      "  texts = list(re.finditer(\"[^\\d\\W]+\", original_text))\n",
      "/home/tommidi/Projects/NLP_Project/AI_Content_Detection/DetectGPT/model.py:195: SyntaxWarning: invalid escape sequence '\\d'\n",
      "  sentence_length = len(list(re.finditer(\"[^\\d\\W]+\", sentence)))\n",
      "/home/tommidi/Projects/NLP_Project/AI_Content_Detection/DetectGPT/model.py:222: SyntaxWarning: invalid escape sequence '\\['\n",
      "  sentence = re.sub(\"\\[[0-9]+\\]\", \"\", sentence) # remove all the [numbers] cause of wiki\n"
     ]
    },
    {
     "name": "stderr",
     "output_type": "stream",
     "text": [
      "/home/tommidi/.local/lib/python3.12/site-packages/huggingface_hub/file_download.py:1132: FutureWarning: `resume_download` is deprecated and will be removed in version 1.0.0. Downloads always resume when possible. If you want to force a new download, use `force_download=True`.\n",
      "  warnings.warn(\n",
      "You are using the default legacy behaviour of the <class 'transformers.models.t5.tokenization_t5.T5Tokenizer'>. This is expected, and simply means that the `legacy` (previous) behavior will be used so nothing changes for you. If you want to use the new behaviour, set `legacy=False`. This should only be set if you understand what it means, and thoroughly read the reason why this was added as explained in https://github.com/huggingface/transformers/pull/24565\n",
      "Special tokens have been added in the vocabulary, make sure the associated word embeddings are fine-tuned or trained.\n"
     ]
    }
   ],
   "source": [
    "from DetectGPT.model import GPT2PPLV2 as GPT2PPL\n",
    "\n",
    "detectGPT = GPT2PPL()"
   ]
  },
  {
   "cell_type": "code",
   "execution_count": 6,
   "metadata": {},
   "outputs": [],
   "source": [
    "def collate_fn_detectGPT(batch):\n",
    "    full_texts = [example[\"full_text\"] for example in batch]\n",
    "    labels = torch.stack([torch.stack([torch.tensor(label, device=device, dtype=torch.float32) for label in example[\"labels\"]]) for example in batch]) if \"labels\" in batch[0] else None\n",
    "    output = { \"text\": full_texts,\n",
    "               \"chunk_value\": 100,\n",
    "               \"labels\": labels }\n",
    "    return output"
   ]
  },
  {
   "cell_type": "code",
   "execution_count": 7,
   "metadata": {},
   "outputs": [],
   "source": [
    "import transformers\n",
    "\n",
    "from sklearn.metrics import accuracy_score, precision_score, recall_score, f1_score\n",
    "\n",
    "def compute_metrics_detectGPT(pred):\n",
    "    labels = pred.label_ids\n",
    "    preds = pred.predictions\n",
    "    \n",
    "    # Calculate accuracy\n",
    "    accuracy = accuracy_score(labels, preds)\n",
    "\n",
    "   # Calculate precision, recall, and F1-score\n",
    "    precision = precision_score(labels, preds, average='weighted')\n",
    "    recall = recall_score(labels, preds, average='weighted')\n",
    "    f1 = f1_score(labels, preds, average='weighted')\n",
    "    \n",
    "    return {\n",
    "        'accuracy': accuracy,\n",
    "        'precision': precision,\n",
    "        'recall': recall,\n",
    "        'f1': f1\n",
    "    }\n",
    "\n",
    "trainer_detectGPT = transformers.Trainer(\n",
    "    model=detectGPT,\n",
    "    train_dataset=LLM_Detect_train_dataset,\n",
    "    eval_dataset=LLM_Detect_eval_dataset,\n",
    "    args=transformers.TrainingArguments(\n",
    "        per_device_train_batch_size=1,\n",
    "        gradient_accumulation_steps=16,\n",
    "        warmup_ratio=0.05,\n",
    "        num_train_epochs=1,\n",
    "        learning_rate=1e-5,\n",
    "        output_dir=\"outputs\",\n",
    "        optim=\"adamw_torch\",\n",
    "        remove_unused_columns=False,\n",
    "        dataloader_pin_memory=False,\n",
    "        logging_steps=100//16,\n",
    "        prediction_loss_only=False,\n",
    "        save_strategy=\"no\",\n",
    "        label_names=[\"labels\"]\n",
    "    ),\n",
    "    compute_metrics=compute_metrics_detectGPT,\n",
    "    data_collator=collate_fn_detectGPT\n",
    ")"
   ]
  },
  {
   "cell_type": "code",
   "execution_count": 8,
   "metadata": {},
   "outputs": [
    {
     "name": "stdout",
     "output_type": "stream",
     "text": [
      "tensor([[0.],\n",
      "        [0.],\n",
      "        [0.],\n",
      "        [0.],\n",
      "        [0.],\n",
      "        [0.],\n",
      "        [0.],\n",
      "        [0.]], device='cuda:0')\n"
     ]
    },
    {
     "data": {
      "text/html": [
       "\n",
       "    <div>\n",
       "      \n",
       "      <progress value='4' max='4' style='width:300px; height:20px; vertical-align: middle;'></progress>\n",
       "      [4/4 02:34]\n",
       "    </div>\n",
       "    "
      ],
      "text/plain": [
       "<IPython.core.display.HTML object>"
      ]
     },
     "metadata": {},
     "output_type": "display_data"
    },
    {
     "name": "stdout",
     "output_type": "stream",
     "text": [
      "tensor([[0.],\n",
      "        [0.],\n",
      "        [0.],\n",
      "        [0.],\n",
      "        [0.],\n",
      "        [0.],\n",
      "        [0.],\n",
      "        [1.]], device='cuda:0')\n",
      "tensor([[0.],\n",
      "        [0.],\n",
      "        [1.],\n",
      "        [0.],\n",
      "        [0.],\n",
      "        [0.],\n",
      "        [0.],\n",
      "        [0.]], device='cuda:0')\n",
      "tensor([[0.],\n",
      "        [0.],\n",
      "        [0.],\n",
      "        [0.],\n",
      "        [0.]], device='cuda:0')\n"
     ]
    },
    {
     "data": {
      "text/plain": [
       "{'eval_loss': 0.0,\n",
       " 'eval_accuracy': 0.7931034482758621,\n",
       " 'eval_precision': 0.8390804597701149,\n",
       " 'eval_recall': 0.7931034482758621,\n",
       " 'eval_f1': 0.7439655172413793,\n",
       " 'eval_runtime': 215.9717,\n",
       " 'eval_samples_per_second': 0.134,\n",
       " 'eval_steps_per_second': 0.019}"
      ]
     },
     "execution_count": 8,
     "metadata": {},
     "output_type": "execute_result"
    }
   ],
   "source": [
    "trainer_detectGPT.evaluate()"
   ]
  }
 ],
 "metadata": {
  "kernelspec": {
   "display_name": "Python 3",
   "language": "python",
   "name": "python3"
  },
  "language_info": {
   "codemirror_mode": {
    "name": "ipython",
    "version": 3
   },
   "file_extension": ".py",
   "mimetype": "text/x-python",
   "name": "python",
   "nbconvert_exporter": "python",
   "pygments_lexer": "ipython3",
   "version": "3.12.3"
  }
 },
 "nbformat": 4,
 "nbformat_minor": 2
}
